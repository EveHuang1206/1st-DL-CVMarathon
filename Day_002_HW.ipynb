{
 "cells": [
  {
   "cell_type": "markdown",
   "metadata": {},
   "source": [
    "## [作業目標]\n",
    "了解機器學習適合應用的領域與範疇。"
   ]
  },
  {
   "cell_type": "markdown",
   "metadata": {},
   "source": [
    "## [作業重點]\n",
    "透過瞭解機器學習的運作方式，找出非常適用機器學習應用的領域及其原因"
   ]
  },
  {
   "cell_type": "markdown",
   "metadata": {},
   "source": [
    "## 作業\n",
    "請找出一個你認為機器學習可以發光發熱的領域並闡述原因? "
   ]
  },
  {
   "cell_type": "code",
   "execution_count": null,
   "metadata": {},
   "outputs": [],
   "source": [
    "\"\"\"\n",
    "我覺得機器學習可適用在智慧家電上面。\n",
    "例如我有一台智慧電冰箱，經由設定，它可以自動偵測冰箱裡有什麼食材，並記錄各項食材的購入日期及保存期限。\n",
    "另一方面，除了記錄食材，它還能提供相對應的食譜。\n",
    "當食材快用完時，智慧冰箱會跳出詢問頁面，詢問主人是否需要從生鮮超市的線上賣場購入食材。\n",
    "\n",
    "而這些技術背後所用到的方法，正是機器學習而來的。\n",
    "例如要偵測食材，首先機器要學會辨認食材，為了辨認食材，它需要學習各式各樣蔬果肉類等圖片，以及相對應的名稱。\n",
    "再來，以名稱搜尋相關食譜，或是進行食材配對。如果冰箱內有馬鈴薯跟豬肉，那它可以推薦燉肉。\n",
    "另外，像是購入食材的部分，智慧冰箱可推薦相關食材，例如我現在要買青椒，那它旁邊就可以推薦牛肉，今晚的菜色就可以是青椒炒牛肉。\n",
    "\n",
    "\"\"\""
   ]
  }
 ],
 "metadata": {
  "kernelspec": {
   "display_name": "Python 3",
   "language": "python",
   "name": "python3"
  },
  "language_info": {
   "codemirror_mode": {
    "name": "ipython",
    "version": 3
   },
   "file_extension": ".py",
   "mimetype": "text/x-python",
   "name": "python",
   "nbconvert_exporter": "python",
   "pygments_lexer": "ipython3",
   "version": "3.7.4"
  }
 },
 "nbformat": 4,
 "nbformat_minor": 2
}
