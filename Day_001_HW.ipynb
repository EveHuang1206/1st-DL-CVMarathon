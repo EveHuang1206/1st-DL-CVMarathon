{
 "cells": [
  {
   "cell_type": "markdown",
   "metadata": {},
   "source": [
    "## 練習時間\n",
    "#### 請寫一個函式用來計算 Mean Square Error\n",
    "$ MSE = \\frac{1}{n}\\sum_{i=1}^{n}{(Y_i - \\hat{Y}_i)^2} $\n",
    "\n",
    "### Hint: [如何取平方](https://googoodesign.gitbooks.io/-ezpython/unit-1.html)"
   ]
  },
  {
   "cell_type": "markdown",
   "metadata": {},
   "source": [
    "# [作業目標]\n",
    "- 仿造範例的MAE函數, 自己寫一個MSE函數(參考上面公式)"
   ]
  },
  {
   "cell_type": "markdown",
   "metadata": {},
   "source": [
    "# [作業重點]\n",
    "- 注意程式的縮排\n",
    "- 是否能將數學公式, 轉換為 Python 的函式組合? (In[2], Out[2])"
   ]
  },
  {
   "cell_type": "code",
   "execution_count": null,
   "metadata": {},
   "outputs": [],
   "source": [
    "# 載入基礎套件與代稱\n",
    "import numpy as np\n",
    "import matplotlib.pyplot as plt"
   ]
  },
  {
   "cell_type": "code",
   "execution_count": null,
   "metadata": {},
   "outputs": [],
   "source": [
    "def mean_absolute_error(y, yp):\n",
    "    \"\"\"\n",
    "    計算 MAE\n",
    "    Args:\n",
    "        - y: 實際值\n",
    "        - yp: 預測值\n",
    "    Return:\n",
    "        - mae: MAE\n",
    "    \"\"\"\n",
    "    mae = MAE = sum(abs(y - yp)) / len(y)\n",
    "    return mae\n",
    "\n",
    "# 定義 mean_squared_error 這個函數, 計算並傳回 MSE\n",
    "    \"\"\"\n",
    "    請完成這個 Function 後往下執行\n",
    "    \"\"\"\n",
    "def mean_square_error(y):\n",
    "    mse = MSE = (y-(sum(y)/len(y))**2 / len(y)\n",
    "    return mse"
   ]
  },
  {
   "cell_type": "code",
   "execution_count": null,
   "metadata": {},
   "outputs": [],
   "source": [
    "# 與範例相同, 不另外解說\n",
    "w = 3\n",
    "b = 0.5\n",
    "x_lin = np.linspace(0, 100, 101)\n",
    "y = (x_lin + np.random.randn(101) * 5) * w + b\n",
    "\n",
    "plt.plot(x_lin, y, 'b.', label = 'data points')\n",
    "plt.title(\"Assume we have data points\")\n",
    "plt.legend(loc = 2)\n",
    "plt.show()"
   ]
  },
  {
   "cell_type": "code",
   "execution_count": null,
   "metadata": {},
   "outputs": [],
   "source": [
    "# 與範例相同, 不另外解說\n",
    "y_hat = x_lin * w + b\n",
    "plt.plot(x_lin, y, 'b.', label = 'data')\n",
    "plt.plot(x_lin, y_hat, 'r-', label = 'prediction')\n",
    "plt.title(\"Assume we have data points (And the prediction)\")\n",
    "plt.legend(loc = 2)\n",
    "plt.show()"
   ]
  },
  {
   "cell_type": "code",
   "execution_count": null,
   "metadata": {},
   "outputs": [],
   "source": [
    "# 執行 Function, 確認有沒有正常執行\n",
    "MSE = mean_squared_error(y, y_hat)\n",
    "MAE = mean_absolute_error(y, y_hat)\n",
    "print(\"The Mean squared error is %.3f\" % (MSE))\n",
    "print(\"The Mean absolute error is %.3f\" % (MAE))"
   ]
  },
  {
   "cell_type": "markdown",
   "metadata": {},
   "source": [
    "# [作業2]\n",
    "\n",
    "請上 Kaggle, 在 Competitions 或 Dataset 中找一組競賽或資料並寫下：\n",
    "\n",
    "1. 你選的這組資料為何重要\n",
    "\n",
    "2. 資料從何而來 (tips: 譬如提供者是誰、以什麼方式蒐集)\n",
    "\n",
    "3. 蒐集而來的資料型態為何\n",
    "\n",
    "4. 這組資料想解決的問題如何評估\n",
    "\n",
    "# [作業3]\n",
    "\n",
    "想像你經營一個自由載客車隊，你希望能透過數據分析以提升業績，請你思考並描述你如何規劃整體的分析/解決方案：\n",
    "\n",
    "1. 核心問題為何 (tips：如何定義 「提升業績 & 你的假設」)\n",
    "\n",
    "2. 資料從何而來 (tips：哪些資料可能會對你想問的問題產生影響 & 資料如何蒐集)\n",
    "\n",
    "3. 蒐集而來的資料型態為何\n",
    "\n",
    "4. 你要回答的問題，其如何評估 (tips：你的假設如何驗證)"
   ]
  },
  {
   "cell_type": "code",
   "execution_count": null,
   "metadata": {},
   "outputs": [],
   "source": [
    "#作業2\n",
    "\"\"\"\n",
    "我選擇的是 TED Talks系列的dataset (https://www.kaggle.com/rounakbanik/ted-talks?select=ted_main.csv)\n",
    "這組資料收錄從創始至2017年9月21的TED Talk演講，這組資料的提供者是Rounak Banik，原始資料來自TED Talk官網。\n",
    "收集來的資料涵蓋演講影片名稱、發布日期、講者姓名、講者人數、字幕語言、演講活動收錄年份、演講時間長短、演講介紹、評論留言則數，\n",
    "以及最重要的演講逐字稿和URL，以上均記錄在CSV檔裡，為已結構化的資料。由此組資料，可得出一些分析，例如觀眾最喜歡的演講主題類別、\n",
    "什麼樣的主題能引起最多討論、在相關主題的演講裡不同講者的措辭為何，之類的問題。\n",
    "\n",
    "以下為資料整理者提供的幾個想解決的問題:\n",
    "1. How is each TED Talk related to every other TED Talk?\n",
    "2. Which are the most viewed and most favorited Talks of all time? Are they mostly the same? What does this tell us?\n",
    "3. What kind of topics attract the maximum discussion and debate (in the form of comments)?\n",
    "4. Which months are most popular among TED and TEDx chapters?\n",
    "5. Which themes are most popular amongst TEDsters?\n",
    "\n",
    "藉由將各則TED Talk分類，我們可得出主要的演講主題類別，再結合年份和月份，可進一步分析當年度最關注的議題是什麼(心理健康、個人財務管理等等)。\n",
    "細探這些演講裡，觀眾留言內容與反應為何，支持或反對某提案，或是他們聽完演講後的反思是什麼。\n",
    "也可以搜尋是否有特定主題每年都出現在TED Talk演講，或許這類主題是一直以來都關心的議題，或是一直以來都沒解決的問題。\n",
    "\n",
    "TED Talk平台的部分，我們可由觀眾喜好及每年受歡迎主題來邀請講者，並請觀眾投票票選下一季最想要聽的主題，做為參考。\n",
    "講者的部分，可以根據觀眾回饋來調整內容，像是觀眾想多了解的面向等等。\n",
    "\n",
    "\"\"\"\n",
    "\n",
    "\n",
    "#作業3\n",
    "\"\"\"\n",
    "我經營一個自由載客隊，我想要透過數據分析來提升業績。\n",
    "\n",
    "首先要定義何謂提升業績。假設我現在一個月可以賺三萬塊，我設定從下個月開始的半年內，每個月業績都要達到三萬五。\n",
    "接下來，再去研究如何幫自己增加五千塊的營業額。\n",
    "可能藉由多接單，或是提高單程短程距離的價錢。或是在熱門觀光景點駐點，安排多一點的車次。\n",
    "再來，可透過問卷方式或手機app蒐集顧客意見資料，例如希望提供什麼樣的載客服務，針對大部分顧客意見去改善並客製化，\n",
    "建立自己車隊的獨特性，建立品牌特色。\n",
    "至於如何評估，同樣可透過顧客意見的傳達，以及業績有沒有因此達標來做為評量標準。\n",
    "\n",
    "\"\"\""
   ]
  }
 ],
 "metadata": {
  "anaconda-cloud": {},
  "kernelspec": {
   "display_name": "Python 3",
   "language": "python",
   "name": "python3"
  },
  "language_info": {
   "codemirror_mode": {
    "name": "ipython",
    "version": 3
   },
   "file_extension": ".py",
   "mimetype": "text/x-python",
   "name": "python",
   "nbconvert_exporter": "python",
   "pygments_lexer": "ipython3",
   "version": "3.7.4"
  }
 },
 "nbformat": 4,
 "nbformat_minor": 1
}
